{
 "cells": [
  {
   "cell_type": "markdown",
   "metadata": {},
   "source": [
    "## Notebook for exporatory data analysis of Per Scholas Data"
   ]
  },
  {
   "cell_type": "code",
   "execution_count": 35,
   "metadata": {
    "collapsed": true
   },
   "outputs": [],
   "source": [
    "import os\n",
    "import pandas as pd\n",
    "import seaborn as sns\n",
    "import numpy as np\n",
    "from scipy import stats, integrate\n",
    "import matplotlib.pyplot as plt\n",
    "import sklearn\n",
    "from sklearn.model_selection import train_test_split\n",
    "from sklearn import linear_model"
   ]
  },
  {
   "cell_type": "code",
   "execution_count": 2,
   "metadata": {},
   "outputs": [
    {
     "data": {
      "text/plain": [
       "'/home/kt12/repos/keepint'"
      ]
     },
     "execution_count": 2,
     "metadata": {},
     "output_type": "execute_result"
    }
   ],
   "source": [
    "os.getcwd()"
   ]
  },
  {
   "cell_type": "code",
   "execution_count": 3,
   "metadata": {
    "collapsed": true
   },
   "outputs": [],
   "source": [
    "a = pd.read_csv('per_scholas_data.csv', skiprows=range(1,2))\n",
    "b = pd.read_csv('per_scholas_data2.csv')\n",
    "c = pd.read_csv('per_scholas_data3.csv', skiprows=range(1,2))"
   ]
  },
  {
   "cell_type": "code",
   "execution_count": 4,
   "metadata": {},
   "outputs": [
    {
     "data": {
      "text/html": [
       "<div>\n",
       "<style>\n",
       "    .dataframe thead tr:only-child th {\n",
       "        text-align: right;\n",
       "    }\n",
       "\n",
       "    .dataframe thead th {\n",
       "        text-align: left;\n",
       "    }\n",
       "\n",
       "    .dataframe tbody tr th {\n",
       "        vertical-align: top;\n",
       "    }\n",
       "</style>\n",
       "<table border=\"1\" class=\"dataframe\">\n",
       "  <thead>\n",
       "    <tr style=\"text-align: right;\">\n",
       "      <th></th>\n",
       "      <th>Record ID</th>\n",
       "      <th>Workflow Status</th>\n",
       "      <th>Cycle</th>\n",
       "      <th>Placed</th>\n",
       "      <th>Start Date</th>\n",
       "      <th>Retained (Months)</th>\n",
       "      <th>First Post Training Wage</th>\n",
       "      <th>Current Wage</th>\n",
       "      <th>Wage Gain %</th>\n",
       "      <th>Alumni Status</th>\n",
       "      <th>Career Coach</th>\n",
       "      <th>Meeting &amp; Outreach Name</th>\n",
       "      <th>Meeting/ Outreach Date</th>\n",
       "      <th>Meeting Type</th>\n",
       "      <th>Outreach Type</th>\n",
       "      <th># of Outreaches</th>\n",
       "      <th>Total # of Two-Way Contacts</th>\n",
       "    </tr>\n",
       "  </thead>\n",
       "  <tbody>\n",
       "    <tr>\n",
       "      <th>0</th>\n",
       "      <td>CON-38109</td>\n",
       "      <td>Graduated</td>\n",
       "      <td>2014-15-NY</td>\n",
       "      <td>1</td>\n",
       "      <td>5/2/2014</td>\n",
       "      <td>5.0</td>\n",
       "      <td>15.00</td>\n",
       "      <td>NaN</td>\n",
       "      <td>NaN</td>\n",
       "      <td>STEP Program</td>\n",
       "      <td>Diana</td>\n",
       "      <td>M&amp;O-2238</td>\n",
       "      <td>4/26/2016</td>\n",
       "      <td>Call</td>\n",
       "      <td>Quarterly Meeting - Unemployed</td>\n",
       "      <td>1</td>\n",
       "      <td>1</td>\n",
       "    </tr>\n",
       "    <tr>\n",
       "      <th>1</th>\n",
       "      <td>CON-47061</td>\n",
       "      <td>Graduated</td>\n",
       "      <td>2015-07-NY</td>\n",
       "      <td>1</td>\n",
       "      <td>2/10/2016</td>\n",
       "      <td>12.0</td>\n",
       "      <td>9.75</td>\n",
       "      <td>11.25</td>\n",
       "      <td>15%</td>\n",
       "      <td>Initial Placement</td>\n",
       "      <td>Diana</td>\n",
       "      <td>M&amp;O-2237</td>\n",
       "      <td>4/22/2016</td>\n",
       "      <td>Call</td>\n",
       "      <td>Quarterly Meeting - Employed</td>\n",
       "      <td>4</td>\n",
       "      <td>5</td>\n",
       "    </tr>\n",
       "    <tr>\n",
       "      <th>2</th>\n",
       "      <td>CON-49375</td>\n",
       "      <td>Graduated</td>\n",
       "      <td>2016-06-NY</td>\n",
       "      <td>1</td>\n",
       "      <td>6/8/2015</td>\n",
       "      <td>16.0</td>\n",
       "      <td>23.00</td>\n",
       "      <td>45.67</td>\n",
       "      <td>99%</td>\n",
       "      <td>Re-placement</td>\n",
       "      <td>Diana</td>\n",
       "      <td>M&amp;O-2235</td>\n",
       "      <td>4/21/2016</td>\n",
       "      <td>Call</td>\n",
       "      <td>Quarterly Meeting - Employed</td>\n",
       "      <td>1</td>\n",
       "      <td>1</td>\n",
       "    </tr>\n",
       "    <tr>\n",
       "      <th>3</th>\n",
       "      <td>CON-43833</td>\n",
       "      <td>Graduated</td>\n",
       "      <td>2015-15-NY</td>\n",
       "      <td>1</td>\n",
       "      <td>8/4/2014</td>\n",
       "      <td>13.0</td>\n",
       "      <td>15.00</td>\n",
       "      <td>NaN</td>\n",
       "      <td>NaN</td>\n",
       "      <td>Initial Placement</td>\n",
       "      <td>Diana</td>\n",
       "      <td>M&amp;O-2251</td>\n",
       "      <td>6/27/2016</td>\n",
       "      <td>Call</td>\n",
       "      <td>Quarterly Meeting - Unemployed</td>\n",
       "      <td>0</td>\n",
       "      <td>1</td>\n",
       "    </tr>\n",
       "    <tr>\n",
       "      <th>4</th>\n",
       "      <td>CON-26658</td>\n",
       "      <td>Graduated</td>\n",
       "      <td>2016-06-NY</td>\n",
       "      <td>1</td>\n",
       "      <td>3/25/2015</td>\n",
       "      <td>18.0</td>\n",
       "      <td>21.63</td>\n",
       "      <td>26.44</td>\n",
       "      <td>22%</td>\n",
       "      <td>Placement Captured</td>\n",
       "      <td>Diana</td>\n",
       "      <td>M&amp;O-2240</td>\n",
       "      <td>4/27/2016</td>\n",
       "      <td>Call</td>\n",
       "      <td>Quarterly Meeting - Employed</td>\n",
       "      <td>2</td>\n",
       "      <td>3</td>\n",
       "    </tr>\n",
       "  </tbody>\n",
       "</table>\n",
       "</div>"
      ],
      "text/plain": [
       "   Record ID Workflow Status       Cycle  Placed Start Date  \\\n",
       "0  CON-38109       Graduated  2014-15-NY       1   5/2/2014   \n",
       "1  CON-47061       Graduated  2015-07-NY       1  2/10/2016   \n",
       "2  CON-49375       Graduated  2016-06-NY       1   6/8/2015   \n",
       "3  CON-43833       Graduated  2015-15-NY       1   8/4/2014   \n",
       "4  CON-26658       Graduated  2016-06-NY       1  3/25/2015   \n",
       "\n",
       "   Retained (Months)  First Post Training Wage  Current Wage Wage Gain %  \\\n",
       "0                5.0                     15.00           NaN         NaN   \n",
       "1               12.0                      9.75         11.25         15%   \n",
       "2               16.0                     23.00         45.67         99%   \n",
       "3               13.0                     15.00           NaN         NaN   \n",
       "4               18.0                     21.63         26.44         22%   \n",
       "\n",
       "        Alumni Status Career Coach Meeting & Outreach Name  \\\n",
       "0        STEP Program        Diana                M&O-2238   \n",
       "1   Initial Placement        Diana                M&O-2237   \n",
       "2        Re-placement        Diana                M&O-2235   \n",
       "3   Initial Placement        Diana                M&O-2251   \n",
       "4  Placement Captured        Diana                M&O-2240   \n",
       "\n",
       "  Meeting/ Outreach Date Meeting Type                   Outreach Type  \\\n",
       "0              4/26/2016         Call  Quarterly Meeting - Unemployed   \n",
       "1              4/22/2016         Call    Quarterly Meeting - Employed   \n",
       "2              4/21/2016         Call    Quarterly Meeting - Employed   \n",
       "3              6/27/2016         Call  Quarterly Meeting - Unemployed   \n",
       "4              4/27/2016         Call    Quarterly Meeting - Employed   \n",
       "\n",
       "   # of Outreaches  Total # of Two-Way Contacts  \n",
       "0                1                            1  \n",
       "1                4                            5  \n",
       "2                1                            1  \n",
       "3                0                            1  \n",
       "4                2                            3  "
      ]
     },
     "execution_count": 4,
     "metadata": {},
     "output_type": "execute_result"
    }
   ],
   "source": [
    "a.head()"
   ]
  },
  {
   "cell_type": "code",
   "execution_count": 5,
   "metadata": {},
   "outputs": [
    {
     "data": {
      "text/html": [
       "<div>\n",
       "<style>\n",
       "    .dataframe thead tr:only-child th {\n",
       "        text-align: right;\n",
       "    }\n",
       "\n",
       "    .dataframe thead th {\n",
       "        text-align: left;\n",
       "    }\n",
       "\n",
       "    .dataframe tbody tr th {\n",
       "        vertical-align: top;\n",
       "    }\n",
       "</style>\n",
       "<table border=\"1\" class=\"dataframe\">\n",
       "  <thead>\n",
       "    <tr style=\"text-align: right;\">\n",
       "      <th></th>\n",
       "      <th>Record ID</th>\n",
       "      <th>Event/Workshop Date</th>\n",
       "      <th># of New Hire Workshops</th>\n",
       "      <th>Alumni Event/Workshop Name</th>\n",
       "    </tr>\n",
       "  </thead>\n",
       "  <tbody>\n",
       "    <tr>\n",
       "      <th>0</th>\n",
       "      <td>CON-40152</td>\n",
       "      <td>10/12/2016</td>\n",
       "      <td>1</td>\n",
       "      <td>New Hire Workshop</td>\n",
       "    </tr>\n",
       "    <tr>\n",
       "      <th>1</th>\n",
       "      <td>CON-25958</td>\n",
       "      <td>10/12/2016</td>\n",
       "      <td>1</td>\n",
       "      <td>New Hire Workshop</td>\n",
       "    </tr>\n",
       "    <tr>\n",
       "      <th>2</th>\n",
       "      <td>CON-42453</td>\n",
       "      <td>10/12/2016</td>\n",
       "      <td>1</td>\n",
       "      <td>New Hire Workshop</td>\n",
       "    </tr>\n",
       "    <tr>\n",
       "      <th>3</th>\n",
       "      <td>CON-41234</td>\n",
       "      <td>10/12/2016</td>\n",
       "      <td>1</td>\n",
       "      <td>New Hire Workshop</td>\n",
       "    </tr>\n",
       "    <tr>\n",
       "      <th>4</th>\n",
       "      <td>CON-32094</td>\n",
       "      <td>10/12/2016</td>\n",
       "      <td>1</td>\n",
       "      <td>New Hire Workshop</td>\n",
       "    </tr>\n",
       "  </tbody>\n",
       "</table>\n",
       "</div>"
      ],
      "text/plain": [
       "   Record ID Event/Workshop Date  # of New Hire Workshops  \\\n",
       "0  CON-40152          10/12/2016                        1   \n",
       "1  CON-25958          10/12/2016                        1   \n",
       "2  CON-42453          10/12/2016                        1   \n",
       "3  CON-41234          10/12/2016                        1   \n",
       "4  CON-32094          10/12/2016                        1   \n",
       "\n",
       "  Alumni Event/Workshop Name  \n",
       "0          New Hire Workshop  \n",
       "1          New Hire Workshop  \n",
       "2          New Hire Workshop  \n",
       "3          New Hire Workshop  \n",
       "4          New Hire Workshop  "
      ]
     },
     "execution_count": 5,
     "metadata": {},
     "output_type": "execute_result"
    }
   ],
   "source": [
    "b.head()"
   ]
  },
  {
   "cell_type": "code",
   "execution_count": 6,
   "metadata": {},
   "outputs": [
    {
     "data": {
      "text/html": [
       "<div>\n",
       "<style>\n",
       "    .dataframe thead tr:only-child th {\n",
       "        text-align: right;\n",
       "    }\n",
       "\n",
       "    .dataframe thead th {\n",
       "        text-align: left;\n",
       "    }\n",
       "\n",
       "    .dataframe tbody tr th {\n",
       "        vertical-align: top;\n",
       "    }\n",
       "</style>\n",
       "<table border=\"1\" class=\"dataframe\">\n",
       "  <thead>\n",
       "    <tr style=\"text-align: right;\">\n",
       "      <th></th>\n",
       "      <th>Record ID</th>\n",
       "      <th>Cycle</th>\n",
       "      <th>Alumni Class: Cycle Name</th>\n",
       "      <th>Certification Name</th>\n",
       "      <th>Date of Test</th>\n",
       "      <th>Status</th>\n",
       "    </tr>\n",
       "  </thead>\n",
       "  <tbody>\n",
       "    <tr>\n",
       "      <th>0</th>\n",
       "      <td>CON-7354</td>\n",
       "      <td>2013-14-NY</td>\n",
       "      <td>SEC-16-002</td>\n",
       "      <td>CompTIA Security+</td>\n",
       "      <td>9/30/2016</td>\n",
       "      <td>Passed</td>\n",
       "    </tr>\n",
       "    <tr>\n",
       "      <th>1</th>\n",
       "      <td>CON-51341</td>\n",
       "      <td>2014-13-NY</td>\n",
       "      <td>SEC-16-002</td>\n",
       "      <td>CompTIA Security+</td>\n",
       "      <td>NaN</td>\n",
       "      <td>Not Reported</td>\n",
       "    </tr>\n",
       "    <tr>\n",
       "      <th>2</th>\n",
       "      <td>CON-47819</td>\n",
       "      <td>2015-16-NY</td>\n",
       "      <td>SEC-16-002</td>\n",
       "      <td>CompTIA Security+</td>\n",
       "      <td>10/19/2016</td>\n",
       "      <td>No Show</td>\n",
       "    </tr>\n",
       "    <tr>\n",
       "      <th>3</th>\n",
       "      <td>CON-45524</td>\n",
       "      <td>2014-13-NY</td>\n",
       "      <td>SEC-16-002</td>\n",
       "      <td>CompTIA Security+</td>\n",
       "      <td>10/19/2016</td>\n",
       "      <td>No Show</td>\n",
       "    </tr>\n",
       "    <tr>\n",
       "      <th>4</th>\n",
       "      <td>CON-46295</td>\n",
       "      <td>2015-16-NY</td>\n",
       "      <td>SEC-16-002</td>\n",
       "      <td>CompTIA Security+</td>\n",
       "      <td>NaN</td>\n",
       "      <td>Not Reported</td>\n",
       "    </tr>\n",
       "  </tbody>\n",
       "</table>\n",
       "</div>"
      ],
      "text/plain": [
       "   Record ID       Cycle Alumni Class: Cycle Name Certification Name  \\\n",
       "0   CON-7354  2013-14-NY               SEC-16-002  CompTIA Security+   \n",
       "1  CON-51341  2014-13-NY               SEC-16-002  CompTIA Security+   \n",
       "2  CON-47819  2015-16-NY               SEC-16-002  CompTIA Security+   \n",
       "3  CON-45524  2014-13-NY               SEC-16-002  CompTIA Security+   \n",
       "4  CON-46295  2015-16-NY               SEC-16-002  CompTIA Security+   \n",
       "\n",
       "  Date of Test        Status  \n",
       "0    9/30/2016        Passed  \n",
       "1          NaN  Not Reported  \n",
       "2   10/19/2016       No Show  \n",
       "3   10/19/2016       No Show  \n",
       "4          NaN  Not Reported  "
      ]
     },
     "execution_count": 6,
     "metadata": {},
     "output_type": "execute_result"
    }
   ],
   "source": [
    "c.head()"
   ]
  },
  {
   "cell_type": "code",
   "execution_count": 7,
   "metadata": {},
   "outputs": [
    {
     "data": {
      "text/html": [
       "<div>\n",
       "<style>\n",
       "    .dataframe thead tr:only-child th {\n",
       "        text-align: right;\n",
       "    }\n",
       "\n",
       "    .dataframe thead th {\n",
       "        text-align: left;\n",
       "    }\n",
       "\n",
       "    .dataframe tbody tr th {\n",
       "        vertical-align: top;\n",
       "    }\n",
       "</style>\n",
       "<table border=\"1\" class=\"dataframe\">\n",
       "  <thead>\n",
       "    <tr style=\"text-align: right;\">\n",
       "      <th></th>\n",
       "      <th>Placed</th>\n",
       "      <th>Retained (Months)</th>\n",
       "      <th>First Post Training Wage</th>\n",
       "      <th>Current Wage</th>\n",
       "      <th># of Outreaches</th>\n",
       "      <th>Total # of Two-Way Contacts</th>\n",
       "    </tr>\n",
       "  </thead>\n",
       "  <tbody>\n",
       "    <tr>\n",
       "      <th>count</th>\n",
       "      <td>247.000000</td>\n",
       "      <td>242.000000</td>\n",
       "      <td>242.000000</td>\n",
       "      <td>95.000000</td>\n",
       "      <td>247.000000</td>\n",
       "      <td>247.000000</td>\n",
       "    </tr>\n",
       "    <tr>\n",
       "      <th>mean</th>\n",
       "      <td>0.979757</td>\n",
       "      <td>10.326446</td>\n",
       "      <td>16.402149</td>\n",
       "      <td>20.670737</td>\n",
       "      <td>1.291498</td>\n",
       "      <td>1.587045</td>\n",
       "    </tr>\n",
       "    <tr>\n",
       "      <th>std</th>\n",
       "      <td>0.141116</td>\n",
       "      <td>5.681451</td>\n",
       "      <td>6.052509</td>\n",
       "      <td>8.354926</td>\n",
       "      <td>0.885778</td>\n",
       "      <td>2.925830</td>\n",
       "    </tr>\n",
       "    <tr>\n",
       "      <th>min</th>\n",
       "      <td>0.000000</td>\n",
       "      <td>0.000000</td>\n",
       "      <td>0.000000</td>\n",
       "      <td>0.000000</td>\n",
       "      <td>0.000000</td>\n",
       "      <td>0.000000</td>\n",
       "    </tr>\n",
       "    <tr>\n",
       "      <th>25%</th>\n",
       "      <td>1.000000</td>\n",
       "      <td>6.000000</td>\n",
       "      <td>13.000000</td>\n",
       "      <td>15.510000</td>\n",
       "      <td>1.000000</td>\n",
       "      <td>1.000000</td>\n",
       "    </tr>\n",
       "    <tr>\n",
       "      <th>50%</th>\n",
       "      <td>1.000000</td>\n",
       "      <td>11.000000</td>\n",
       "      <td>16.000000</td>\n",
       "      <td>20.000000</td>\n",
       "      <td>1.000000</td>\n",
       "      <td>1.000000</td>\n",
       "    </tr>\n",
       "    <tr>\n",
       "      <th>75%</th>\n",
       "      <td>1.000000</td>\n",
       "      <td>14.000000</td>\n",
       "      <td>20.000000</td>\n",
       "      <td>25.000000</td>\n",
       "      <td>1.000000</td>\n",
       "      <td>1.000000</td>\n",
       "    </tr>\n",
       "    <tr>\n",
       "      <th>max</th>\n",
       "      <td>1.000000</td>\n",
       "      <td>32.000000</td>\n",
       "      <td>38.000000</td>\n",
       "      <td>45.670000</td>\n",
       "      <td>5.000000</td>\n",
       "      <td>44.000000</td>\n",
       "    </tr>\n",
       "  </tbody>\n",
       "</table>\n",
       "</div>"
      ],
      "text/plain": [
       "           Placed  Retained (Months)  First Post Training Wage  Current Wage  \\\n",
       "count  247.000000         242.000000                242.000000     95.000000   \n",
       "mean     0.979757          10.326446                 16.402149     20.670737   \n",
       "std      0.141116           5.681451                  6.052509      8.354926   \n",
       "min      0.000000           0.000000                  0.000000      0.000000   \n",
       "25%      1.000000           6.000000                 13.000000     15.510000   \n",
       "50%      1.000000          11.000000                 16.000000     20.000000   \n",
       "75%      1.000000          14.000000                 20.000000     25.000000   \n",
       "max      1.000000          32.000000                 38.000000     45.670000   \n",
       "\n",
       "       # of Outreaches  Total # of Two-Way Contacts  \n",
       "count       247.000000                   247.000000  \n",
       "mean          1.291498                     1.587045  \n",
       "std           0.885778                     2.925830  \n",
       "min           0.000000                     0.000000  \n",
       "25%           1.000000                     1.000000  \n",
       "50%           1.000000                     1.000000  \n",
       "75%           1.000000                     1.000000  \n",
       "max           5.000000                    44.000000  "
      ]
     },
     "execution_count": 7,
     "metadata": {},
     "output_type": "execute_result"
    }
   ],
   "source": [
    "a.describe()"
   ]
  },
  {
   "cell_type": "code",
   "execution_count": 8,
   "metadata": {},
   "outputs": [
    {
     "data": {
      "text/html": [
       "<div>\n",
       "<style>\n",
       "    .dataframe thead tr:only-child th {\n",
       "        text-align: right;\n",
       "    }\n",
       "\n",
       "    .dataframe thead th {\n",
       "        text-align: left;\n",
       "    }\n",
       "\n",
       "    .dataframe tbody tr th {\n",
       "        vertical-align: top;\n",
       "    }\n",
       "</style>\n",
       "<table border=\"1\" class=\"dataframe\">\n",
       "  <thead>\n",
       "    <tr style=\"text-align: right;\">\n",
       "      <th></th>\n",
       "      <th># of New Hire Workshops</th>\n",
       "    </tr>\n",
       "  </thead>\n",
       "  <tbody>\n",
       "    <tr>\n",
       "      <th>count</th>\n",
       "      <td>50.0</td>\n",
       "    </tr>\n",
       "    <tr>\n",
       "      <th>mean</th>\n",
       "      <td>1.0</td>\n",
       "    </tr>\n",
       "    <tr>\n",
       "      <th>std</th>\n",
       "      <td>0.0</td>\n",
       "    </tr>\n",
       "    <tr>\n",
       "      <th>min</th>\n",
       "      <td>1.0</td>\n",
       "    </tr>\n",
       "    <tr>\n",
       "      <th>25%</th>\n",
       "      <td>1.0</td>\n",
       "    </tr>\n",
       "    <tr>\n",
       "      <th>50%</th>\n",
       "      <td>1.0</td>\n",
       "    </tr>\n",
       "    <tr>\n",
       "      <th>75%</th>\n",
       "      <td>1.0</td>\n",
       "    </tr>\n",
       "    <tr>\n",
       "      <th>max</th>\n",
       "      <td>1.0</td>\n",
       "    </tr>\n",
       "  </tbody>\n",
       "</table>\n",
       "</div>"
      ],
      "text/plain": [
       "       # of New Hire Workshops\n",
       "count                     50.0\n",
       "mean                       1.0\n",
       "std                        0.0\n",
       "min                        1.0\n",
       "25%                        1.0\n",
       "50%                        1.0\n",
       "75%                        1.0\n",
       "max                        1.0"
      ]
     },
     "execution_count": 8,
     "metadata": {},
     "output_type": "execute_result"
    }
   ],
   "source": [
    "b.describe()"
   ]
  },
  {
   "cell_type": "code",
   "execution_count": 9,
   "metadata": {},
   "outputs": [
    {
     "data": {
      "text/html": [
       "<div>\n",
       "<style>\n",
       "    .dataframe thead tr:only-child th {\n",
       "        text-align: right;\n",
       "    }\n",
       "\n",
       "    .dataframe thead th {\n",
       "        text-align: left;\n",
       "    }\n",
       "\n",
       "    .dataframe tbody tr th {\n",
       "        vertical-align: top;\n",
       "    }\n",
       "</style>\n",
       "<table border=\"1\" class=\"dataframe\">\n",
       "  <thead>\n",
       "    <tr style=\"text-align: right;\">\n",
       "      <th></th>\n",
       "      <th>Record ID</th>\n",
       "      <th>Cycle</th>\n",
       "      <th>Alumni Class: Cycle Name</th>\n",
       "      <th>Certification Name</th>\n",
       "      <th>Date of Test</th>\n",
       "      <th>Status</th>\n",
       "    </tr>\n",
       "  </thead>\n",
       "  <tbody>\n",
       "    <tr>\n",
       "      <th>count</th>\n",
       "      <td>106</td>\n",
       "      <td>106</td>\n",
       "      <td>106</td>\n",
       "      <td>106</td>\n",
       "      <td>84</td>\n",
       "      <td>106</td>\n",
       "    </tr>\n",
       "    <tr>\n",
       "      <th>unique</th>\n",
       "      <td>102</td>\n",
       "      <td>44</td>\n",
       "      <td>8</td>\n",
       "      <td>4</td>\n",
       "      <td>41</td>\n",
       "      <td>5</td>\n",
       "    </tr>\n",
       "    <tr>\n",
       "      <th>top</th>\n",
       "      <td>CON-23160</td>\n",
       "      <td>2016-06-NY</td>\n",
       "      <td>BC-16-002</td>\n",
       "      <td>CompTIA Network+</td>\n",
       "      <td>5/2/2016</td>\n",
       "      <td>Failed</td>\n",
       "    </tr>\n",
       "    <tr>\n",
       "      <th>freq</th>\n",
       "      <td>2</td>\n",
       "      <td>11</td>\n",
       "      <td>25</td>\n",
       "      <td>52</td>\n",
       "      <td>10</td>\n",
       "      <td>40</td>\n",
       "    </tr>\n",
       "  </tbody>\n",
       "</table>\n",
       "</div>"
      ],
      "text/plain": [
       "        Record ID       Cycle Alumni Class: Cycle Name Certification Name  \\\n",
       "count         106         106                      106                106   \n",
       "unique        102          44                        8                  4   \n",
       "top     CON-23160  2016-06-NY                BC-16-002   CompTIA Network+   \n",
       "freq            2          11                       25                 52   \n",
       "\n",
       "       Date of Test  Status  \n",
       "count            84     106  \n",
       "unique           41       5  \n",
       "top        5/2/2016  Failed  \n",
       "freq             10      40  "
      ]
     },
     "execution_count": 9,
     "metadata": {},
     "output_type": "execute_result"
    }
   ],
   "source": [
    "c.describe()"
   ]
  },
  {
   "cell_type": "code",
   "execution_count": 10,
   "metadata": {},
   "outputs": [
    {
     "data": {
      "text/plain": [
       "(247, 17)"
      ]
     },
     "execution_count": 10,
     "metadata": {},
     "output_type": "execute_result"
    }
   ],
   "source": [
    "a.shape"
   ]
  },
  {
   "cell_type": "code",
   "execution_count": 11,
   "metadata": {},
   "outputs": [
    {
     "data": {
      "text/plain": [
       "(50, 4)"
      ]
     },
     "execution_count": 11,
     "metadata": {},
     "output_type": "execute_result"
    }
   ],
   "source": [
    "b.shape"
   ]
  },
  {
   "cell_type": "code",
   "execution_count": 12,
   "metadata": {},
   "outputs": [
    {
     "data": {
      "text/plain": [
       "(106, 6)"
      ]
     },
     "execution_count": 12,
     "metadata": {},
     "output_type": "execute_result"
    }
   ],
   "source": [
    "c.shape"
   ]
  },
  {
   "cell_type": "code",
   "execution_count": 13,
   "metadata": {
    "collapsed": true
   },
   "outputs": [],
   "source": [
    "merged_df = a.merge(b,on='Record ID').merge(c,on='Record ID')"
   ]
  },
  {
   "cell_type": "code",
   "execution_count": 14,
   "metadata": {},
   "outputs": [
    {
     "data": {
      "text/html": [
       "<div>\n",
       "<style>\n",
       "    .dataframe thead tr:only-child th {\n",
       "        text-align: right;\n",
       "    }\n",
       "\n",
       "    .dataframe thead th {\n",
       "        text-align: left;\n",
       "    }\n",
       "\n",
       "    .dataframe tbody tr th {\n",
       "        vertical-align: top;\n",
       "    }\n",
       "</style>\n",
       "<table border=\"1\" class=\"dataframe\">\n",
       "  <thead>\n",
       "    <tr style=\"text-align: right;\">\n",
       "      <th></th>\n",
       "      <th>Record ID</th>\n",
       "      <th>Workflow Status</th>\n",
       "      <th>Cycle_x</th>\n",
       "      <th>Placed</th>\n",
       "      <th>Start Date</th>\n",
       "      <th>Retained (Months)</th>\n",
       "      <th>First Post Training Wage</th>\n",
       "      <th>Current Wage</th>\n",
       "      <th>Wage Gain %</th>\n",
       "      <th>Alumni Status</th>\n",
       "      <th>...</th>\n",
       "      <th># of Outreaches</th>\n",
       "      <th>Total # of Two-Way Contacts</th>\n",
       "      <th>Event/Workshop Date</th>\n",
       "      <th># of New Hire Workshops</th>\n",
       "      <th>Alumni Event/Workshop Name</th>\n",
       "      <th>Cycle_y</th>\n",
       "      <th>Alumni Class: Cycle Name</th>\n",
       "      <th>Certification Name</th>\n",
       "      <th>Date of Test</th>\n",
       "      <th>Status</th>\n",
       "    </tr>\n",
       "  </thead>\n",
       "  <tbody>\n",
       "    <tr>\n",
       "      <th>0</th>\n",
       "      <td>CON-43833</td>\n",
       "      <td>Graduated</td>\n",
       "      <td>2015-15-NY</td>\n",
       "      <td>1</td>\n",
       "      <td>8/4/2014</td>\n",
       "      <td>13.0</td>\n",
       "      <td>15.00</td>\n",
       "      <td>NaN</td>\n",
       "      <td>NaN</td>\n",
       "      <td>Initial Placement</td>\n",
       "      <td>...</td>\n",
       "      <td>0</td>\n",
       "      <td>1</td>\n",
       "      <td>3/16/2016</td>\n",
       "      <td>1</td>\n",
       "      <td>New Hire Workshop</td>\n",
       "      <td>2011-18-NY</td>\n",
       "      <td>Net BC-16-001</td>\n",
       "      <td>CompTIA Network+</td>\n",
       "      <td>NaN</td>\n",
       "      <td>Not Reported</td>\n",
       "    </tr>\n",
       "    <tr>\n",
       "      <th>1</th>\n",
       "      <td>CON-32546</td>\n",
       "      <td>Graduated</td>\n",
       "      <td>2014-20-NY</td>\n",
       "      <td>1</td>\n",
       "      <td>1/26/2014</td>\n",
       "      <td>29.0</td>\n",
       "      <td>22.00</td>\n",
       "      <td>39.62</td>\n",
       "      <td>80%</td>\n",
       "      <td>Re-placement</td>\n",
       "      <td>...</td>\n",
       "      <td>4</td>\n",
       "      <td>5</td>\n",
       "      <td>3/16/2016</td>\n",
       "      <td>1</td>\n",
       "      <td>New Hire Workshop</td>\n",
       "      <td>2014-07-NY</td>\n",
       "      <td>SEC-16-003</td>\n",
       "      <td>CompTIA Security+</td>\n",
       "      <td>9/13/2016</td>\n",
       "      <td>Passed</td>\n",
       "    </tr>\n",
       "    <tr>\n",
       "      <th>2</th>\n",
       "      <td>CON-37086</td>\n",
       "      <td>Graduated</td>\n",
       "      <td>2016-07-NY</td>\n",
       "      <td>1</td>\n",
       "      <td>2/2/2015</td>\n",
       "      <td>15.0</td>\n",
       "      <td>35.00</td>\n",
       "      <td>38.46</td>\n",
       "      <td>10%</td>\n",
       "      <td>Re-placement</td>\n",
       "      <td>...</td>\n",
       "      <td>2</td>\n",
       "      <td>2</td>\n",
       "      <td>8/17/2016</td>\n",
       "      <td>1</td>\n",
       "      <td>New Hire Workshop</td>\n",
       "      <td>2015-13-NY</td>\n",
       "      <td>SEC-16-003</td>\n",
       "      <td>CompTIA Security+</td>\n",
       "      <td>8/16/2016</td>\n",
       "      <td>Passed</td>\n",
       "    </tr>\n",
       "    <tr>\n",
       "      <th>3</th>\n",
       "      <td>CON-37086</td>\n",
       "      <td>Graduated</td>\n",
       "      <td>2015-07-NY</td>\n",
       "      <td>1</td>\n",
       "      <td>3/7/2016</td>\n",
       "      <td>12.0</td>\n",
       "      <td>16.83</td>\n",
       "      <td>NaN</td>\n",
       "      <td>NaN</td>\n",
       "      <td>Initial Placement</td>\n",
       "      <td>...</td>\n",
       "      <td>1</td>\n",
       "      <td>1</td>\n",
       "      <td>8/17/2016</td>\n",
       "      <td>1</td>\n",
       "      <td>New Hire Workshop</td>\n",
       "      <td>2015-13-NY</td>\n",
       "      <td>SEC-16-003</td>\n",
       "      <td>CompTIA Security+</td>\n",
       "      <td>8/16/2016</td>\n",
       "      <td>Passed</td>\n",
       "    </tr>\n",
       "    <tr>\n",
       "      <th>4</th>\n",
       "      <td>CON-46466</td>\n",
       "      <td>Graduated</td>\n",
       "      <td>2014-15-NY</td>\n",
       "      <td>1</td>\n",
       "      <td>7/3/2015</td>\n",
       "      <td>12.0</td>\n",
       "      <td>17.50</td>\n",
       "      <td>NaN</td>\n",
       "      <td>NaN</td>\n",
       "      <td>Initial Placement</td>\n",
       "      <td>...</td>\n",
       "      <td>1</td>\n",
       "      <td>1</td>\n",
       "      <td>3/16/2016</td>\n",
       "      <td>1</td>\n",
       "      <td>New Hire Workshop</td>\n",
       "      <td>2014-14-NY</td>\n",
       "      <td>Sec-16-004</td>\n",
       "      <td>CompTIA Security+</td>\n",
       "      <td>9/17/2016</td>\n",
       "      <td>Failed</td>\n",
       "    </tr>\n",
       "  </tbody>\n",
       "</table>\n",
       "<p>5 rows × 25 columns</p>\n",
       "</div>"
      ],
      "text/plain": [
       "   Record ID Workflow Status     Cycle_x  Placed Start Date  \\\n",
       "0  CON-43833       Graduated  2015-15-NY       1   8/4/2014   \n",
       "1  CON-32546       Graduated  2014-20-NY       1  1/26/2014   \n",
       "2  CON-37086       Graduated  2016-07-NY       1   2/2/2015   \n",
       "3  CON-37086       Graduated  2015-07-NY       1   3/7/2016   \n",
       "4  CON-46466       Graduated  2014-15-NY       1   7/3/2015   \n",
       "\n",
       "   Retained (Months)  First Post Training Wage  Current Wage Wage Gain %  \\\n",
       "0               13.0                     15.00           NaN         NaN   \n",
       "1               29.0                     22.00         39.62         80%   \n",
       "2               15.0                     35.00         38.46         10%   \n",
       "3               12.0                     16.83           NaN         NaN   \n",
       "4               12.0                     17.50           NaN         NaN   \n",
       "\n",
       "       Alumni Status      ...      # of Outreaches  \\\n",
       "0  Initial Placement      ...                    0   \n",
       "1       Re-placement      ...                    4   \n",
       "2       Re-placement      ...                    2   \n",
       "3  Initial Placement      ...                    1   \n",
       "4  Initial Placement      ...                    1   \n",
       "\n",
       "  Total # of Two-Way Contacts Event/Workshop Date # of New Hire Workshops  \\\n",
       "0                           1           3/16/2016                       1   \n",
       "1                           5           3/16/2016                       1   \n",
       "2                           2           8/17/2016                       1   \n",
       "3                           1           8/17/2016                       1   \n",
       "4                           1           3/16/2016                       1   \n",
       "\n",
       "  Alumni Event/Workshop Name     Cycle_y  Alumni Class: Cycle Name  \\\n",
       "0          New Hire Workshop  2011-18-NY             Net BC-16-001   \n",
       "1          New Hire Workshop  2014-07-NY                SEC-16-003   \n",
       "2          New Hire Workshop  2015-13-NY                SEC-16-003   \n",
       "3          New Hire Workshop  2015-13-NY                SEC-16-003   \n",
       "4          New Hire Workshop  2014-14-NY                Sec-16-004   \n",
       "\n",
       "  Certification Name  Date of Test        Status  \n",
       "0   CompTIA Network+           NaN  Not Reported  \n",
       "1  CompTIA Security+     9/13/2016        Passed  \n",
       "2  CompTIA Security+     8/16/2016        Passed  \n",
       "3  CompTIA Security+     8/16/2016        Passed  \n",
       "4  CompTIA Security+     9/17/2016        Failed  \n",
       "\n",
       "[5 rows x 25 columns]"
      ]
     },
     "execution_count": 14,
     "metadata": {},
     "output_type": "execute_result"
    }
   ],
   "source": [
    "merged_df.head()"
   ]
  },
  {
   "cell_type": "code",
   "execution_count": 15,
   "metadata": {},
   "outputs": [
    {
     "data": {
      "text/html": [
       "<div>\n",
       "<style>\n",
       "    .dataframe thead tr:only-child th {\n",
       "        text-align: right;\n",
       "    }\n",
       "\n",
       "    .dataframe thead th {\n",
       "        text-align: left;\n",
       "    }\n",
       "\n",
       "    .dataframe tbody tr th {\n",
       "        vertical-align: top;\n",
       "    }\n",
       "</style>\n",
       "<table border=\"1\" class=\"dataframe\">\n",
       "  <thead>\n",
       "    <tr style=\"text-align: right;\">\n",
       "      <th></th>\n",
       "      <th>Placed</th>\n",
       "      <th>Retained (Months)</th>\n",
       "      <th>First Post Training Wage</th>\n",
       "      <th>Current Wage</th>\n",
       "      <th># of Outreaches</th>\n",
       "      <th>Total # of Two-Way Contacts</th>\n",
       "      <th># of New Hire Workshops</th>\n",
       "    </tr>\n",
       "  </thead>\n",
       "  <tbody>\n",
       "    <tr>\n",
       "      <th>count</th>\n",
       "      <td>9.0</td>\n",
       "      <td>9.000000</td>\n",
       "      <td>9.000000</td>\n",
       "      <td>4.000000</td>\n",
       "      <td>9.000000</td>\n",
       "      <td>9.000000</td>\n",
       "      <td>9.0</td>\n",
       "    </tr>\n",
       "    <tr>\n",
       "      <th>mean</th>\n",
       "      <td>1.0</td>\n",
       "      <td>13.777778</td>\n",
       "      <td>18.984444</td>\n",
       "      <td>28.677500</td>\n",
       "      <td>1.777778</td>\n",
       "      <td>2.000000</td>\n",
       "      <td>1.0</td>\n",
       "    </tr>\n",
       "    <tr>\n",
       "      <th>std</th>\n",
       "      <td>0.0</td>\n",
       "      <td>6.220486</td>\n",
       "      <td>6.840391</td>\n",
       "      <td>12.277036</td>\n",
       "      <td>1.641476</td>\n",
       "      <td>1.732051</td>\n",
       "      <td>0.0</td>\n",
       "    </tr>\n",
       "    <tr>\n",
       "      <th>min</th>\n",
       "      <td>1.0</td>\n",
       "      <td>7.000000</td>\n",
       "      <td>11.000000</td>\n",
       "      <td>15.000000</td>\n",
       "      <td>0.000000</td>\n",
       "      <td>1.000000</td>\n",
       "      <td>1.0</td>\n",
       "    </tr>\n",
       "    <tr>\n",
       "      <th>25%</th>\n",
       "      <td>1.0</td>\n",
       "      <td>12.000000</td>\n",
       "      <td>15.000000</td>\n",
       "      <td>19.972500</td>\n",
       "      <td>1.000000</td>\n",
       "      <td>1.000000</td>\n",
       "      <td>1.0</td>\n",
       "    </tr>\n",
       "    <tr>\n",
       "      <th>50%</th>\n",
       "      <td>1.0</td>\n",
       "      <td>13.000000</td>\n",
       "      <td>17.500000</td>\n",
       "      <td>30.045000</td>\n",
       "      <td>1.000000</td>\n",
       "      <td>1.000000</td>\n",
       "      <td>1.0</td>\n",
       "    </tr>\n",
       "    <tr>\n",
       "      <th>75%</th>\n",
       "      <td>1.0</td>\n",
       "      <td>14.000000</td>\n",
       "      <td>21.030000</td>\n",
       "      <td>38.750000</td>\n",
       "      <td>2.000000</td>\n",
       "      <td>2.000000</td>\n",
       "      <td>1.0</td>\n",
       "    </tr>\n",
       "    <tr>\n",
       "      <th>max</th>\n",
       "      <td>1.0</td>\n",
       "      <td>29.000000</td>\n",
       "      <td>35.000000</td>\n",
       "      <td>39.620000</td>\n",
       "      <td>5.000000</td>\n",
       "      <td>5.000000</td>\n",
       "      <td>1.0</td>\n",
       "    </tr>\n",
       "  </tbody>\n",
       "</table>\n",
       "</div>"
      ],
      "text/plain": [
       "       Placed  Retained (Months)  First Post Training Wage  Current Wage  \\\n",
       "count     9.0           9.000000                  9.000000      4.000000   \n",
       "mean      1.0          13.777778                 18.984444     28.677500   \n",
       "std       0.0           6.220486                  6.840391     12.277036   \n",
       "min       1.0           7.000000                 11.000000     15.000000   \n",
       "25%       1.0          12.000000                 15.000000     19.972500   \n",
       "50%       1.0          13.000000                 17.500000     30.045000   \n",
       "75%       1.0          14.000000                 21.030000     38.750000   \n",
       "max       1.0          29.000000                 35.000000     39.620000   \n",
       "\n",
       "       # of Outreaches  Total # of Two-Way Contacts  # of New Hire Workshops  \n",
       "count         9.000000                     9.000000                      9.0  \n",
       "mean          1.777778                     2.000000                      1.0  \n",
       "std           1.641476                     1.732051                      0.0  \n",
       "min           0.000000                     1.000000                      1.0  \n",
       "25%           1.000000                     1.000000                      1.0  \n",
       "50%           1.000000                     1.000000                      1.0  \n",
       "75%           2.000000                     2.000000                      1.0  \n",
       "max           5.000000                     5.000000                      1.0  "
      ]
     },
     "execution_count": 15,
     "metadata": {},
     "output_type": "execute_result"
    }
   ],
   "source": [
    "merged_df.describe()"
   ]
  },
  {
   "cell_type": "code",
   "execution_count": 16,
   "metadata": {},
   "outputs": [
    {
     "data": {
      "text/html": [
       "<div>\n",
       "<style>\n",
       "    .dataframe thead tr:only-child th {\n",
       "        text-align: right;\n",
       "    }\n",
       "\n",
       "    .dataframe thead th {\n",
       "        text-align: left;\n",
       "    }\n",
       "\n",
       "    .dataframe tbody tr th {\n",
       "        vertical-align: top;\n",
       "    }\n",
       "</style>\n",
       "<table border=\"1\" class=\"dataframe\">\n",
       "  <thead>\n",
       "    <tr style=\"text-align: right;\">\n",
       "      <th></th>\n",
       "      <th>Record ID</th>\n",
       "      <th>Workflow Status</th>\n",
       "      <th>Cycle_x</th>\n",
       "      <th>Placed</th>\n",
       "      <th>Start Date</th>\n",
       "      <th>Retained (Months)</th>\n",
       "      <th>First Post Training Wage</th>\n",
       "      <th>Current Wage</th>\n",
       "      <th>Wage Gain %</th>\n",
       "      <th>Alumni Status</th>\n",
       "      <th>...</th>\n",
       "      <th># of Outreaches</th>\n",
       "      <th>Total # of Two-Way Contacts</th>\n",
       "      <th>Event/Workshop Date</th>\n",
       "      <th># of New Hire Workshops</th>\n",
       "      <th>Alumni Event/Workshop Name</th>\n",
       "      <th>Cycle_y</th>\n",
       "      <th>Alumni Class: Cycle Name</th>\n",
       "      <th>Certification Name</th>\n",
       "      <th>Date of Test</th>\n",
       "      <th>Status</th>\n",
       "    </tr>\n",
       "  </thead>\n",
       "  <tbody>\n",
       "    <tr>\n",
       "      <th>0</th>\n",
       "      <td>CON-43833</td>\n",
       "      <td>Graduated</td>\n",
       "      <td>2015-15-NY</td>\n",
       "      <td>1</td>\n",
       "      <td>8/4/2014</td>\n",
       "      <td>13.0</td>\n",
       "      <td>15.00</td>\n",
       "      <td>NaN</td>\n",
       "      <td>NaN</td>\n",
       "      <td>Initial Placement</td>\n",
       "      <td>...</td>\n",
       "      <td>0</td>\n",
       "      <td>1</td>\n",
       "      <td>3/16/2016</td>\n",
       "      <td>1</td>\n",
       "      <td>New Hire Workshop</td>\n",
       "      <td>2011-18-NY</td>\n",
       "      <td>Net BC-16-001</td>\n",
       "      <td>CompTIA Network+</td>\n",
       "      <td>NaN</td>\n",
       "      <td>Not Reported</td>\n",
       "    </tr>\n",
       "    <tr>\n",
       "      <th>1</th>\n",
       "      <td>CON-32546</td>\n",
       "      <td>Graduated</td>\n",
       "      <td>2014-20-NY</td>\n",
       "      <td>1</td>\n",
       "      <td>1/26/2014</td>\n",
       "      <td>29.0</td>\n",
       "      <td>22.00</td>\n",
       "      <td>39.62</td>\n",
       "      <td>80%</td>\n",
       "      <td>Re-placement</td>\n",
       "      <td>...</td>\n",
       "      <td>4</td>\n",
       "      <td>5</td>\n",
       "      <td>3/16/2016</td>\n",
       "      <td>1</td>\n",
       "      <td>New Hire Workshop</td>\n",
       "      <td>2014-07-NY</td>\n",
       "      <td>SEC-16-003</td>\n",
       "      <td>CompTIA Security+</td>\n",
       "      <td>9/13/2016</td>\n",
       "      <td>Passed</td>\n",
       "    </tr>\n",
       "    <tr>\n",
       "      <th>2</th>\n",
       "      <td>CON-37086</td>\n",
       "      <td>Graduated</td>\n",
       "      <td>2016-07-NY</td>\n",
       "      <td>1</td>\n",
       "      <td>2/2/2015</td>\n",
       "      <td>15.0</td>\n",
       "      <td>35.00</td>\n",
       "      <td>38.46</td>\n",
       "      <td>10%</td>\n",
       "      <td>Re-placement</td>\n",
       "      <td>...</td>\n",
       "      <td>2</td>\n",
       "      <td>2</td>\n",
       "      <td>8/17/2016</td>\n",
       "      <td>1</td>\n",
       "      <td>New Hire Workshop</td>\n",
       "      <td>2015-13-NY</td>\n",
       "      <td>SEC-16-003</td>\n",
       "      <td>CompTIA Security+</td>\n",
       "      <td>8/16/2016</td>\n",
       "      <td>Passed</td>\n",
       "    </tr>\n",
       "    <tr>\n",
       "      <th>3</th>\n",
       "      <td>CON-37086</td>\n",
       "      <td>Graduated</td>\n",
       "      <td>2015-07-NY</td>\n",
       "      <td>1</td>\n",
       "      <td>3/7/2016</td>\n",
       "      <td>12.0</td>\n",
       "      <td>16.83</td>\n",
       "      <td>NaN</td>\n",
       "      <td>NaN</td>\n",
       "      <td>Initial Placement</td>\n",
       "      <td>...</td>\n",
       "      <td>1</td>\n",
       "      <td>1</td>\n",
       "      <td>8/17/2016</td>\n",
       "      <td>1</td>\n",
       "      <td>New Hire Workshop</td>\n",
       "      <td>2015-13-NY</td>\n",
       "      <td>SEC-16-003</td>\n",
       "      <td>CompTIA Security+</td>\n",
       "      <td>8/16/2016</td>\n",
       "      <td>Passed</td>\n",
       "    </tr>\n",
       "    <tr>\n",
       "      <th>4</th>\n",
       "      <td>CON-46466</td>\n",
       "      <td>Graduated</td>\n",
       "      <td>2014-15-NY</td>\n",
       "      <td>1</td>\n",
       "      <td>7/3/2015</td>\n",
       "      <td>12.0</td>\n",
       "      <td>17.50</td>\n",
       "      <td>NaN</td>\n",
       "      <td>NaN</td>\n",
       "      <td>Initial Placement</td>\n",
       "      <td>...</td>\n",
       "      <td>1</td>\n",
       "      <td>1</td>\n",
       "      <td>3/16/2016</td>\n",
       "      <td>1</td>\n",
       "      <td>New Hire Workshop</td>\n",
       "      <td>2014-14-NY</td>\n",
       "      <td>Sec-16-004</td>\n",
       "      <td>CompTIA Security+</td>\n",
       "      <td>9/17/2016</td>\n",
       "      <td>Failed</td>\n",
       "    </tr>\n",
       "    <tr>\n",
       "      <th>5</th>\n",
       "      <td>CON-47974</td>\n",
       "      <td>Graduated</td>\n",
       "      <td>2014-13-NY</td>\n",
       "      <td>1</td>\n",
       "      <td>11/18/2015</td>\n",
       "      <td>14.0</td>\n",
       "      <td>11.00</td>\n",
       "      <td>15.00</td>\n",
       "      <td>36%</td>\n",
       "      <td>Re-placement</td>\n",
       "      <td>...</td>\n",
       "      <td>1</td>\n",
       "      <td>1</td>\n",
       "      <td>2/17/2016</td>\n",
       "      <td>1</td>\n",
       "      <td>New Hire Workshop</td>\n",
       "      <td>2014-25-NY</td>\n",
       "      <td>SEC-16-002</td>\n",
       "      <td>CompTIA Security+</td>\n",
       "      <td>8/6/2016</td>\n",
       "      <td>Failed</td>\n",
       "    </tr>\n",
       "    <tr>\n",
       "      <th>6</th>\n",
       "      <td>CON-47974</td>\n",
       "      <td>Graduated</td>\n",
       "      <td>2015-16-NY</td>\n",
       "      <td>1</td>\n",
       "      <td>4/4/2016</td>\n",
       "      <td>7.0</td>\n",
       "      <td>15.00</td>\n",
       "      <td>NaN</td>\n",
       "      <td>NaN</td>\n",
       "      <td>Initial Placement</td>\n",
       "      <td>...</td>\n",
       "      <td>1</td>\n",
       "      <td>1</td>\n",
       "      <td>2/17/2016</td>\n",
       "      <td>1</td>\n",
       "      <td>New Hire Workshop</td>\n",
       "      <td>2014-25-NY</td>\n",
       "      <td>SEC-16-002</td>\n",
       "      <td>CompTIA Security+</td>\n",
       "      <td>8/6/2016</td>\n",
       "      <td>Failed</td>\n",
       "    </tr>\n",
       "    <tr>\n",
       "      <th>7</th>\n",
       "      <td>CON-47974</td>\n",
       "      <td>Graduated</td>\n",
       "      <td>2014-24-NY</td>\n",
       "      <td>1</td>\n",
       "      <td>5/15/2015</td>\n",
       "      <td>13.0</td>\n",
       "      <td>17.50</td>\n",
       "      <td>NaN</td>\n",
       "      <td>NaN</td>\n",
       "      <td>Initial Placement</td>\n",
       "      <td>...</td>\n",
       "      <td>5</td>\n",
       "      <td>5</td>\n",
       "      <td>2/17/2016</td>\n",
       "      <td>1</td>\n",
       "      <td>New Hire Workshop</td>\n",
       "      <td>2014-25-NY</td>\n",
       "      <td>SEC-16-002</td>\n",
       "      <td>CompTIA Security+</td>\n",
       "      <td>8/6/2016</td>\n",
       "      <td>Failed</td>\n",
       "    </tr>\n",
       "    <tr>\n",
       "      <th>8</th>\n",
       "      <td>CON-53363</td>\n",
       "      <td>Graduated</td>\n",
       "      <td>2015-08-NY</td>\n",
       "      <td>1</td>\n",
       "      <td>8/15/2016</td>\n",
       "      <td>9.0</td>\n",
       "      <td>21.03</td>\n",
       "      <td>21.63</td>\n",
       "      <td>3%</td>\n",
       "      <td>Re-placement</td>\n",
       "      <td>...</td>\n",
       "      <td>1</td>\n",
       "      <td>1</td>\n",
       "      <td>5/18/2016</td>\n",
       "      <td>1</td>\n",
       "      <td>New Hire Workshop</td>\n",
       "      <td>2013-01-NY</td>\n",
       "      <td>Sec-16-004</td>\n",
       "      <td>CompTIA Security+</td>\n",
       "      <td>11/28/2016</td>\n",
       "      <td>Passed</td>\n",
       "    </tr>\n",
       "  </tbody>\n",
       "</table>\n",
       "<p>9 rows × 25 columns</p>\n",
       "</div>"
      ],
      "text/plain": [
       "   Record ID Workflow Status     Cycle_x  Placed  Start Date  \\\n",
       "0  CON-43833       Graduated  2015-15-NY       1    8/4/2014   \n",
       "1  CON-32546       Graduated  2014-20-NY       1   1/26/2014   \n",
       "2  CON-37086       Graduated  2016-07-NY       1    2/2/2015   \n",
       "3  CON-37086       Graduated  2015-07-NY       1    3/7/2016   \n",
       "4  CON-46466       Graduated  2014-15-NY       1    7/3/2015   \n",
       "5  CON-47974       Graduated  2014-13-NY       1  11/18/2015   \n",
       "6  CON-47974       Graduated  2015-16-NY       1    4/4/2016   \n",
       "7  CON-47974       Graduated  2014-24-NY       1   5/15/2015   \n",
       "8  CON-53363       Graduated  2015-08-NY       1   8/15/2016   \n",
       "\n",
       "   Retained (Months)  First Post Training Wage  Current Wage Wage Gain %  \\\n",
       "0               13.0                     15.00           NaN         NaN   \n",
       "1               29.0                     22.00         39.62         80%   \n",
       "2               15.0                     35.00         38.46         10%   \n",
       "3               12.0                     16.83           NaN         NaN   \n",
       "4               12.0                     17.50           NaN         NaN   \n",
       "5               14.0                     11.00         15.00         36%   \n",
       "6                7.0                     15.00           NaN         NaN   \n",
       "7               13.0                     17.50           NaN         NaN   \n",
       "8                9.0                     21.03         21.63          3%   \n",
       "\n",
       "       Alumni Status      ...      # of Outreaches  \\\n",
       "0  Initial Placement      ...                    0   \n",
       "1       Re-placement      ...                    4   \n",
       "2       Re-placement      ...                    2   \n",
       "3  Initial Placement      ...                    1   \n",
       "4  Initial Placement      ...                    1   \n",
       "5       Re-placement      ...                    1   \n",
       "6  Initial Placement      ...                    1   \n",
       "7  Initial Placement      ...                    5   \n",
       "8       Re-placement      ...                    1   \n",
       "\n",
       "  Total # of Two-Way Contacts Event/Workshop Date # of New Hire Workshops  \\\n",
       "0                           1           3/16/2016                       1   \n",
       "1                           5           3/16/2016                       1   \n",
       "2                           2           8/17/2016                       1   \n",
       "3                           1           8/17/2016                       1   \n",
       "4                           1           3/16/2016                       1   \n",
       "5                           1           2/17/2016                       1   \n",
       "6                           1           2/17/2016                       1   \n",
       "7                           5           2/17/2016                       1   \n",
       "8                           1           5/18/2016                       1   \n",
       "\n",
       "  Alumni Event/Workshop Name     Cycle_y  Alumni Class: Cycle Name  \\\n",
       "0          New Hire Workshop  2011-18-NY             Net BC-16-001   \n",
       "1          New Hire Workshop  2014-07-NY                SEC-16-003   \n",
       "2          New Hire Workshop  2015-13-NY                SEC-16-003   \n",
       "3          New Hire Workshop  2015-13-NY                SEC-16-003   \n",
       "4          New Hire Workshop  2014-14-NY                Sec-16-004   \n",
       "5          New Hire Workshop  2014-25-NY                SEC-16-002   \n",
       "6          New Hire Workshop  2014-25-NY                SEC-16-002   \n",
       "7          New Hire Workshop  2014-25-NY                SEC-16-002   \n",
       "8          New Hire Workshop  2013-01-NY                Sec-16-004   \n",
       "\n",
       "  Certification Name  Date of Test        Status  \n",
       "0   CompTIA Network+           NaN  Not Reported  \n",
       "1  CompTIA Security+     9/13/2016        Passed  \n",
       "2  CompTIA Security+     8/16/2016        Passed  \n",
       "3  CompTIA Security+     8/16/2016        Passed  \n",
       "4  CompTIA Security+     9/17/2016        Failed  \n",
       "5  CompTIA Security+      8/6/2016        Failed  \n",
       "6  CompTIA Security+      8/6/2016        Failed  \n",
       "7  CompTIA Security+      8/6/2016        Failed  \n",
       "8  CompTIA Security+    11/28/2016        Passed  \n",
       "\n",
       "[9 rows x 25 columns]"
      ]
     },
     "execution_count": 16,
     "metadata": {},
     "output_type": "execute_result"
    }
   ],
   "source": [
    "merged_df"
   ]
  },
  {
   "cell_type": "markdown",
   "metadata": {},
   "source": [
    "Merged dataframe only containes 9 records...may not be very useful.  Go back to the first data frame."
   ]
  },
  {
   "cell_type": "code",
   "execution_count": 17,
   "metadata": {
    "collapsed": true
   },
   "outputs": [],
   "source": [
    "labels = a.columns.values"
   ]
  },
  {
   "cell_type": "code",
   "execution_count": 18,
   "metadata": {},
   "outputs": [
    {
     "data": {
      "text/plain": [
       "array(['Record ID', 'Workflow Status', 'Cycle', 'Placed', 'Start Date',\n",
       "       'Retained (Months)', 'First Post Training Wage', 'Current Wage',\n",
       "       'Wage Gain %', 'Alumni Status', 'Career Coach',\n",
       "       'Meeting & Outreach Name', 'Meeting/ Outreach Date', 'Meeting Type',\n",
       "       'Outreach Type', '# of Outreaches', 'Total # of Two-Way Contacts'], dtype=object)"
      ]
     },
     "execution_count": 18,
     "metadata": {},
     "output_type": "execute_result"
    }
   ],
   "source": [
    "labels"
   ]
  },
  {
   "cell_type": "code",
   "execution_count": 19,
   "metadata": {},
   "outputs": [
    {
     "data": {
      "text/plain": [
       "242"
      ]
     },
     "execution_count": 19,
     "metadata": {},
     "output_type": "execute_result"
    }
   ],
   "source": [
    "sum(a['Placed']) "
   ]
  },
  {
   "cell_type": "code",
   "execution_count": 20,
   "metadata": {
    "collapsed": true
   },
   "outputs": [],
   "source": [
    "a_num = a[['First Post Training Wage', 'Retained (Months)', 'Current Wage']]"
   ]
  },
  {
   "cell_type": "code",
   "execution_count": 21,
   "metadata": {
    "collapsed": true
   },
   "outputs": [],
   "source": [
    "a_num_na = a_num.fillna(0)"
   ]
  },
  {
   "cell_type": "code",
   "execution_count": 22,
   "metadata": {
    "collapsed": true
   },
   "outputs": [],
   "source": [
    "first_wage = a_num_na['First Post Training Wage']"
   ]
  },
  {
   "cell_type": "code",
   "execution_count": 23,
   "metadata": {
    "collapsed": true
   },
   "outputs": [],
   "source": [
    "retained = a_num_na['Retained (Months)']"
   ]
  },
  {
   "cell_type": "code",
   "execution_count": 24,
   "metadata": {
    "collapsed": true
   },
   "outputs": [],
   "source": [
    "current_wage = a_num_na['Current Wage']"
   ]
  },
  {
   "cell_type": "code",
   "execution_count": 25,
   "metadata": {},
   "outputs": [
    {
     "data": {
      "image/png": "[encoded data removed]",
      "text/plain": [
       "<matplotlib.figure.Figure at 0x7f544e3ade10>"
      ]
     },
     "metadata": {},
     "output_type": "display_data"
    }
   ],
   "source": [
    "sns.jointplot(x=first_wage, y=current_wage)\n",
    "plt.show()"
   ]
  },
  {
   "cell_type": "markdown",
   "metadata": {},
   "source": [
    "There seems to be a good correlation between first post training wage and current wage"
   ]
  },
  {
   "cell_type": "code",
   "execution_count": 27,
   "metadata": {},
   "outputs": [
    {
     "data": {
      "image/png": "[encoded data removed]",
      "text/plain": [
       "<matplotlib.figure.Figure at 0x7f544ae29a90>"
      ]
     },
     "metadata": {},
     "output_type": "display_data"
    },
    {
     "data": {
      "image/png": "[encoded data removed]",
      "text/plain": [
       "<matplotlib.figure.Figure at 0x7f544e89f8d0>"
      ]
     },
     "metadata": {},
     "output_type": "display_data"
    }
   ],
   "source": [
    "sns.jointplot(x=first_wage, y=retained, kind=\"kde\");\n",
    "plt.show()"
   ]
  },
  {
   "cell_type": "markdown",
   "metadata": {},
   "source": [
    "Not much of correlation between first wage and retained duration"
   ]
  },
  {
   "cell_type": "markdown",
   "metadata": {},
   "source": [
    "Let's go back to initial and current wage and see if we can find a relationship"
   ]
  },
  {
   "cell_type": "code",
   "execution_count": 29,
   "metadata": {
    "collapsed": true
   },
   "outputs": [],
   "source": [
    "x = first_wage\n",
    "y = current_wage"
   ]
  },
  {
   "cell_type": "code",
   "execution_count": 31,
   "metadata": {
    "collapsed": true
   },
   "outputs": [],
   "source": [
    "X_train, X_test, y_train, y_test = train_test_split(x, y, test_size=0.2, random_state=42)"
   ]
  },
  {
   "cell_type": "code",
   "execution_count": 36,
   "metadata": {},
   "outputs": [],
   "source": [
    "lr = linear_model.LinearRegression()"
   ]
  },
  {
   "cell_type": "code",
   "execution_count": 41,
   "metadata": {},
   "outputs": [
    {
     "name": "stderr",
     "output_type": "stream",
     "text": [
      "/home/kt12/anaconda3/lib/python3.6/site-packages/ipykernel_launcher.py:1: FutureWarning: reshape is deprecated and will raise in a subsequent release. Please use .values.reshape(...) instead\n",
      "  \"\"\"Entry point for launching an IPython kernel.\n"
     ]
    }
   ],
   "source": [
    "X_train, X_test, y_train, y_test = X_train.reshape(-1,1), X_test.reshape(-1, 1), y_train.reshape(-1, 1), y_test.reshape(-1, 1)"
   ]
  },
  {
   "cell_type": "code",
   "execution_count": 42,
   "metadata": {},
   "outputs": [
    {
     "data": {
      "text/plain": [
       "(197, 1)"
      ]
     },
     "execution_count": 42,
     "metadata": {},
     "output_type": "execute_result"
    }
   ],
   "source": [
    "y_train.shape"
   ]
  },
  {
   "cell_type": "code",
   "execution_count": 43,
   "metadata": {},
   "outputs": [
    {
     "data": {
      "text/plain": [
       "LinearRegression(copy_X=True, fit_intercept=True, n_jobs=1, normalize=False)"
      ]
     },
     "execution_count": 43,
     "metadata": {},
     "output_type": "execute_result"
    }
   ],
   "source": [
    "lr.fit(X_train, y_train)"
   ]
  },
  {
   "cell_type": "code",
   "execution_count": 44,
   "metadata": {},
   "outputs": [
    {
     "data": {
      "text/plain": [
       "-0.12509452597072479"
      ]
     },
     "execution_count": 44,
     "metadata": {},
     "output_type": "execute_result"
    }
   ],
   "source": [
    "lr.score(X_test, y_test)"
   ]
  },
  {
   "cell_type": "code",
   "execution_count": 46,
   "metadata": {},
   "outputs": [
    {
     "data": {
      "image/png": "[encoded data removed]",
      "text/plain": [
       "<matplotlib.figure.Figure at 0x7f5441e08b38>"
      ]
     },
     "metadata": {},
     "output_type": "display_data"
    }
   ],
   "source": [
    "plt.scatter(X_test, y_test,  color='black')\n",
    "plt.plot(X_test, lr.predict(X_test), color='blue',\n",
    "         linewidth=3)\n",
    "\n",
    "plt.xticks(())\n",
    "plt.yticks(())\n",
    "\n",
    "plt.show()\n"
   ]
  },
  {
   "cell_type": "markdown",
   "metadata": {},
   "source": [
    "Not a very good model -- need more samples and features!"
   ]
  }
 ],
 "metadata": {
  "kernelspec": {
   "display_name": "Python 3",
   "language": "python",
   "name": "python3"
  },
  "language_info": {
   "codemirror_mode": {
    "name": "ipython",
    "version": 3
   },
   "file_extension": ".py",
   "mimetype": "text/x-python",
   "name": "python",
   "nbconvert_exporter": "python",
   "pygments_lexer": "ipython3",
   "version": "3.6.1"
  }
 },
 "nbformat": 4,
 "nbformat_minor": 2
}
